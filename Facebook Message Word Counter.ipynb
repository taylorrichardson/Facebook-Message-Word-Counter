{
 "cells": [
  {
   "cell_type": "code",
   "execution_count": null,
   "metadata": {},
   "outputs": [],
   "source": [
    "\"\"\"\n",
    "Taylor Richardson\n",
    "September 20, 2018\n",
    "\n",
    "\n",
    "A simple script I wrote for myself to use the Counter function to determine what my top words within conversations were, or to test total count of the occurance of a particular word.\n",
    "\n",
    "\n",
    "\"\"\""
   ]
  },
  {
   "cell_type": "code",
   "execution_count": 14,
   "metadata": {},
   "outputs": [],
   "source": [
    "#Libraries\n",
    "import json\n",
    "from collections import Counter"
   ]
  },
  {
   "cell_type": "code",
   "execution_count": 3,
   "metadata": {},
   "outputs": [],
   "source": [
    "#Import the JSON\n",
    "with open('message.json') as data:\n",
    "    data = json.load(data)"
   ]
  },
  {
   "cell_type": "code",
   "execution_count": 5,
   "metadata": {
    "scrolled": true
   },
   "outputs": [],
   "source": [
    "def fb_count_the_words(jsondata, n_top_words):\n",
    "    #Function inputs a JSON dataset from Facebook, and how many of the most common words do you want to output\n",
    "    #Outputs a dictionary with the word as a key, and count as value\n",
    "    #Also prints out the top n_top_words words used\n",
    "    words = Counter()\n",
    "    errors = 0\n",
    "    #For the length of the messages JSON\n",
    "    for i in range (0, (len(jsondata['messages']))):\n",
    "        #Try and except used to handle any missing messages in the JSON\n",
    "        try:\n",
    "            words += Counter(jsondata['messages'][i]['content'].split())\n",
    "            pass\n",
    "        except(KeyError):\n",
    "            errors += 1\n",
    "            print(\"Found another missing message for some reason, total so far: \" + str(errors) + \". On number : \" + str(i))\n",
    "            \n",
    "    print(words.most_common(n_top_words))\n",
    "    return words"
   ]
  }
 ],
 "metadata": {
  "kernelspec": {
   "display_name": "Python 3",
   "language": "python",
   "name": "python3"
  },
  "language_info": {
   "codemirror_mode": {
    "name": "ipython",
    "version": 3
   },
   "file_extension": ".py",
   "mimetype": "text/x-python",
   "name": "python",
   "nbconvert_exporter": "python",
   "pygments_lexer": "ipython3",
   "version": "3.6.5"
  }
 },
 "nbformat": 4,
 "nbformat_minor": 2
}
